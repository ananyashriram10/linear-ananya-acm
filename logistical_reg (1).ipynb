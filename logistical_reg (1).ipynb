{
  "nbformat": 4,
  "nbformat_minor": 0,
  "metadata": {
    "colab": {
      "provenance": []
    },
    "kernelspec": {
      "name": "python3",
      "display_name": "Python 3"
    },
    "language_info": {
      "name": "python"
    }
  },
  "cells": [
    {
      "cell_type": "code",
      "execution_count": 4,
      "metadata": {
        "colab": {
          "base_uri": "https://localhost:8080/"
        },
        "id": "VE4dMEm9Meil",
        "outputId": "73b20cbc-5d08-48dc-fe58-5b10daae0ba9"
      },
      "outputs": [
        {
          "output_type": "stream",
          "name": "stdout",
          "text": [
            "Accuracy is  0.8333333333333334\n"
          ]
        }
      ],
      "source": [
        "import numpy as np\n",
        "import pandas as pd\n",
        "from sklearn.model_selection import train_test_split\n",
        "from sklearn.metrics import mean_squared_error, accuracy_score\n",
        "import matplotlib.pyplot as plt\n",
        "\n",
        "def sigmoid(z):\n",
        "\n",
        "    z = np.clip(z, -500, 500)\n",
        "    return 1 / (1 + np.exp(-z))\n",
        "\n",
        "def logistic_regression(X, y, lr=0.01, epochs=1000):\n",
        "    n, features = X.shape\n",
        "    weights = np.zeros(features)\n",
        "    bias = 0\n",
        "\n",
        "    for epoch in range(epochs):\n",
        "        linear_model = np.dot(X, weights) + bias\n",
        "        predictions = sigmoid(linear_model)\n",
        "\n",
        "        dw = (1 / n) * np.dot(X.T, (predictions - y))\n",
        "        db = (1 / n) * np.sum(predictions - y)\n",
        "\n",
        "        weights -= lr * dw\n",
        "        bias -= lr * db\n",
        "\n",
        "    return weights, bias\n",
        "\n",
        "def predict_logistic(X, weights, bias):\n",
        "    linear_model = np.dot(X, weights) + bias\n",
        "    predictions = sigmoid(linear_model)\n",
        "    return [1 if i > 0.5 else 0 for i in predictions]\n",
        "\n",
        "heart_data = pd.read_csv(\"/content/drive/MyDrive/RUGVED/framingham.csv\")\n",
        "heart_data = heart_data.dropna()\n",
        "X_heart = heart_data.drop(columns=['TenYearCHD']).values\n",
        "y_heart = heart_data['TenYearCHD'].values\n",
        "\n",
        "X_heart_train, X_heart_test, y_heart_train, y_heart_test = train_test_split(X_heart, y_heart, test_size=0.2, random_state=42)\n",
        "\n",
        "weights, bias = logistic_regression(X_heart_train, y_heart_train)\n",
        "y_heart_pred = predict_logistic(X_heart_test, weights, bias)\n",
        "\n",
        "print(\"Accuracy is \", accuracy_score(y_heart_test, y_heart_pred))"
      ]
    }
  ]
}